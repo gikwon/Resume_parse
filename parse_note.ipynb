{
 "cells": [
  {
   "cell_type": "markdown",
   "metadata": {},
   "source": [
    "Using a more of a scratch paper"
   ]
  },
  {
   "cell_type": "code",
   "execution_count": null,
   "metadata": {},
   "outputs": [],
   "source": [
    "import spacy\n",
    "import os\n",
    "import re\n",
    "import pandas as pd\n",
    "from PyPDF2 import PdfReader\n",
    "import fitz  # PyMuPDF\n",
    "import csv\n",
    "from fuzzywuzzy import fuzz\n",
    "\n",
    "nlp = spacy.load('en_core_web_sm')\n"
   ]
  },
  {
   "cell_type": "code",
   "execution_count": 5,
   "metadata": {},
   "outputs": [],
   "source": [
    "business_resume = \"resume_samples/Business_Resume.docx.pdf\"\n",
    "education_resume = \"resume_samples/EducationResumedocx.pdf\"\n",
    "my_resume = \"resume_samples/my_resume.pdf\""
   ]
  },
  {
   "cell_type": "code",
   "execution_count": 6,
   "metadata": {},
   "outputs": [],
   "source": [
    "#fitz extractor\n",
    "def extract_info_from_pdf(pdf_file):\n",
    "    doc = fitz.open(pdf_file)\n",
    "    text = \"\"\n",
    "    for page in doc:\n",
    "        text += page.get_text()\n",
    "    doc.close()\n",
    "    words = text.split()\n",
    "    text = \" \".join(words)\n",
    "    return text\n",
    "\n",
    "business_text = extract_info_from_pdf(business_resume)\n",
    "education_text = extract_info_from_pdf(education_resume)\n",
    "my_text = extract_info_from_pdf(my_resume)\n"
   ]
  },
  {
   "cell_type": "code",
   "execution_count": 7,
   "metadata": {},
   "outputs": [
    {
     "data": {
      "text/plain": [
       "'YOUR NAME first.last@selu.edu – 985-111-1111 EDUCATION Southeastern Louisiana University (SLU) Hammond, LA Bachelor of Arts in Marketing; Spanish minor May 2021 Major GPA: 3.50/4.00; Overall GPA: 3.65/4.00 RELEVANT EXPERIENCE Marketing Intern Baton Rouge, LA Louisiana Department of Labor May 2021 – July 2021 ● Screened 40+ applicants for open positions daily, paying attention to detail and clearly communicating job requirements to potential candidates ● Retrieved unemployment claims, collected confidential customer information, and conducted daily log entries diligently Chairman of Advertising/Public Relations Baton Rouge, LA American Red Cross, Fundraising Committee January 2020 – May 2020 ● Coordinated and supervised a 6-member committee and maximized committee potential by delegating to members’ strengths ● Provided personal outreach to various media outlets which led to first-time coverage from 4 outlets ● Wrote press releases and secured media publicity through radio, paper, and internet sources, positively representing the brand RELEVANT PROJECT EXPERIENCE Social Media and Digital Marketing, SLU Hammond, LA Group Project January 2021 – May 2021 ● Collaborated with 5-person team to develop action plan for addressing marketing strategies for Fortune 500 company ● Researched client needs and created solution-based layout to best suit functionality requirements ● Led project with confidence through organizing team meetings, tracking progress, and providing forum for discussion CUSTOMER SERVICE EXPERIENCE Server Hammond, LA Olive Garden August 2019 – Present ● Provided excellent customer service to 50+ patrons per shift in a fast-paced, time-intense environment ● Demonstrated keen attention to detail by managing financial transactions totaling up to $2,000 ● Trained 5+ new employees each month on business operations and offer constructive feedback ● Successfully and consistently upsold desserts, appetizers, and special promotions; won upselling contest 4 times Assistant Store Manager Baton Rouge, LA The Body Shop August 2018 – December 2019 ● Exceeded $2,500 weekly sales quota by 10% and targeted customer behavior to increase sales ● Handled amounts exceeding $5,000 daily while maintaining accurate balances and deposits ● Regularly scheduled and supervised duties of 6 employees ● Conducted opening and closing procedures such as product inventory, store cleaning, and accessing multiple security systems ● Exemplified reliability and punctuality by completing all assigned tasks in a timely manner HONORS & AWARDS Taylor Opportunity Program for Students Scholarship Recipient, President’s List (3 semesters), Dean’s List (3 semesters) CAMPUS & COMMUNITY INVOLVEMENT Southeastern Marketing Association, Member August 2019 – Present Habitat for Humanity, Volunteer July 2019 – August 2020 Southeastern Running Club, Member July 2018 – January 2019 SKILLS Language: conversational Spanish, skilled in written Spanish Technical: proficient in Bloomberg Terminal, proficient in Microsoft Office Suite'"
      ]
     },
     "execution_count": 7,
     "metadata": {},
     "output_type": "execute_result"
    }
   ],
   "source": [
    "business_text\n",
    "# education_text\n",
    "# my_text"
   ]
  },
  {
   "cell_type": "code",
   "execution_count": 111,
   "metadata": {},
   "outputs": [],
   "source": [
    "def extract_resume_info(text):\n",
    "\n",
    "    doc = nlp(text)\n",
    "    \n",
    "    # name_pattern = r\"([A-Z][a-z]+ [A-Z][a-z]+)\"\n",
    "    phone_pattern = r\"(\\d{3}[-\\.\\s]??\\d{3}[-\\.\\s]??\\d{4}|\\(\\d{3}\\)\\s*\\d{3}[-\\.\\s]??\\d{4}|\\d{3}[-\\.\\s]??\\d{4})\"\n",
    "    email_pattern = r\"[\\w.-]+@[\\w.-]+\"\n",
    "    website_pattern = r\"((?<=[^a-zA-Z0-9])(?:https?\\:\\/\\/|[a-zA-Z0-9]{1,}\\.{1}|\\b)(?:\\w{1,}\\.{1}){1,5}(?:com|org|edu|gov|uk|net|ca|de|jp|fr|au|us|ru|ch|it|nl|se|no|es|mil|iq|io|ac|ly|sm){1}(?:\\/[a-zA-Z0-9]{1,})*)\"\n",
    "\n",
    "\n",
    "\n",
    "    # name = [ent.text for ent in doc_first_two_lines.ents if ent.label_ == \"PERSON\"]\n",
    "    name = doc[:2].text\n",
    "    phone = re.search(phone_pattern, text).group(0) if re.search(phone_pattern, text) else \"\"\n",
    "    email = re.search(email_pattern, text).group(0) if re.search(email_pattern, text) else \"\"\n",
    "    website = re.search(website_pattern, text).group(0) if re.search(website_pattern, text) else \"\"\n",
    "    \n",
    "    return name, phone, email, website"
   ]
  },
  {
   "cell_type": "code",
   "execution_count": 110,
   "metadata": {},
   "outputs": [
    {
     "data": {
      "text/plain": [
       "'ucsd.edu'"
      ]
     },
     "execution_count": 110,
     "metadata": {},
     "output_type": "execute_result"
    }
   ],
   "source": [
    "website_pattern = r\"((?<=[^a-zA-Z0-9])(?:https?\\:\\/\\/|[a-zA-Z0-9]{1,}\\.{1}|\\b)(?:\\w{1,}\\.{1}){1,5}(?:com|org|edu|gov|uk|net|ca|de|jp|fr|au|us|ru|ch|it|nl|se|no|es|mil|iq|io|ac|ly|sm){1}(?:\\/[a-zA-Z0-9]{1,})*)\"\n",
    "website = re.search(website_pattern, my_text).group(0) if re.search(website_pattern, my_text) else \"\"\n",
    "website\n"
   ]
  },
  {
   "cell_type": "code",
   "execution_count": 118,
   "metadata": {},
   "outputs": [
    {
     "data": {
      "text/plain": [
       "[('YOUR NAME', '985-111-1111', 'first.last@selu.edu', 'selu.edu'),\n",
       " ('Your Name', '985-555-5555', 'education@gmail.com', 'gmail.com'),\n",
       " ('Gihyeon Kwon', '(858) 753-3273', 'gikwon@ucsd.edu', 'ucsd.edu')]"
      ]
     },
     "execution_count": 118,
     "metadata": {},
     "output_type": "execute_result"
    }
   ],
   "source": [
    "business_output = extract_resume_info(business_text)\n",
    "education_output = extract_resume_info(education_text)\n",
    "my_output = extract_resume_info(my_text)\n",
    "\n",
    "out = [business_output, education_output, my_output]\n",
    "out"
   ]
  },
  {
   "cell_type": "code",
   "execution_count": 38,
   "metadata": {},
   "outputs": [
    {
     "ename": "NameError",
     "evalue": "name 'business_output' is not defined",
     "output_type": "error",
     "traceback": [
      "\u001b[0;31m---------------------------------------------------------------------------\u001b[0m",
      "\u001b[0;31mNameError\u001b[0m                                 Traceback (most recent call last)",
      "Cell \u001b[0;32mIn[38], line 3\u001b[0m\n\u001b[1;32m      1\u001b[0m \u001b[38;5;66;03m#name\u001b[39;00m\n\u001b[1;32m      2\u001b[0m \u001b[38;5;28;01massert\u001b[39;00m \u001b[38;5;28mall\u001b[39m([\n\u001b[0;32m----> 3\u001b[0m     \u001b[43mbusiness_output\u001b[49m[\u001b[38;5;241m0\u001b[39m] \u001b[38;5;241m==\u001b[39m \u001b[38;5;124m\"\u001b[39m\u001b[38;5;124mYOUR NAME\u001b[39m\u001b[38;5;124m\"\u001b[39m, \n\u001b[1;32m      4\u001b[0m     education_output[\u001b[38;5;241m0\u001b[39m] \u001b[38;5;241m==\u001b[39m \u001b[38;5;124m\"\u001b[39m\u001b[38;5;124mYour Name\u001b[39m\u001b[38;5;124m\"\u001b[39m, \n\u001b[1;32m      5\u001b[0m     my_output[\u001b[38;5;241m0\u001b[39m] \u001b[38;5;241m==\u001b[39m \u001b[38;5;124m\"\u001b[39m\u001b[38;5;124mGihyeon Kwon\u001b[39m\u001b[38;5;124m\"\u001b[39m\n\u001b[1;32m      6\u001b[0m     ]), \u001b[38;5;124m\"\u001b[39m\u001b[38;5;124mName failed\u001b[39m\u001b[38;5;124m\"\u001b[39m\n\u001b[1;32m      7\u001b[0m \u001b[38;5;66;03m#number\u001b[39;00m\n\u001b[1;32m      8\u001b[0m \u001b[38;5;28;01massert\u001b[39;00m \u001b[38;5;28mall\u001b[39m([\n\u001b[1;32m      9\u001b[0m     business_output[\u001b[38;5;241m1\u001b[39m] \u001b[38;5;241m==\u001b[39m \u001b[38;5;124m\"\u001b[39m\u001b[38;5;124m985-111-1111\u001b[39m\u001b[38;5;124m\"\u001b[39m, \n\u001b[1;32m     10\u001b[0m     education_output[\u001b[38;5;241m1\u001b[39m] \u001b[38;5;241m==\u001b[39m \u001b[38;5;124m\"\u001b[39m\u001b[38;5;124m985-555-5555\u001b[39m\u001b[38;5;124m\"\u001b[39m,\n\u001b[1;32m     11\u001b[0m     my_output[\u001b[38;5;241m1\u001b[39m] \u001b[38;5;241m==\u001b[39m \u001b[38;5;124m\"\u001b[39m\u001b[38;5;124m(858) 753-3273\u001b[39m\u001b[38;5;124m\"\u001b[39m\n\u001b[1;32m     12\u001b[0m     ]), \u001b[38;5;124m\"\u001b[39m\u001b[38;5;124mnumber failed\u001b[39m\u001b[38;5;124m\"\u001b[39m\n",
      "\u001b[0;31mNameError\u001b[0m: name 'business_output' is not defined"
     ]
    }
   ],
   "source": [
    "#name\n",
    "assert all([\n",
    "    business_output[0] == \"YOUR NAME\", \n",
    "    education_output[0] == \"Your Name\", \n",
    "    my_output[0] == \"Gihyeon Kwon\"\n",
    "    ]), \"Name failed\"\n",
    "#number\n",
    "assert all([\n",
    "    business_output[1] == \"985-111-1111\", \n",
    "    education_output[1] == \"985-555-5555\",\n",
    "    my_output[1] == \"(858) 753-3273\"\n",
    "    ]), \"number failed\"\n",
    "#email\n",
    "assert all([\n",
    "    business_output[2] == \"first.last@selu.edu\",\n",
    "    education_output[2] == \"education@gmail.com\",\n",
    "    my_output[2] == \"gikwon@ucsd.edu\"\n",
    "    ]), \"email failed\"\n",
    "#website\n",
    "assert all([\n",
    "    business_output[3] == \"\",\n",
    "    education_output[3] == \"linkedin.com/in/name\",\n",
    "    my_output[3] == \"linkedin.com/in/gihyeonkwon\"\n",
    "    ]), \"website failed\""
   ]
  },
  {
   "cell_type": "code",
   "execution_count": 35,
   "metadata": {},
   "outputs": [
    {
     "data": {
      "text/plain": [
       "'YOUR NAME first.last@selu.edu – 985-111-1111 EDUCATION Southeastern Louisiana University (SLU) Hammond, LA Bachelor of Arts in Marketing; Spanish minor May 2021 Major GPA: 3.50/4.00; Overall GPA: 3.65/4.00 RELEVANT EXPERIENCE Marketing Intern Baton Rouge, LA Louisiana Department of Labor May 2021 – July 2021 ● Screened 40+ applicants for open positions daily, paying attention to detail and clearly communicating job requirements to potential candidates ● Retrieved unemployment claims, collected confidential customer information, and conducted daily log entries diligently Chairman of Advertising/Public Relations Baton Rouge, LA American Red Cross, Fundraising Committee January 2020 – May 2020 ● Coordinated and supervised a 6-member committee and maximized committee potential by delegating to members’ strengths ● Provided personal outreach to various media outlets which led to first-time coverage from 4 outlets ● Wrote press releases and secured media publicity through radio, paper, and internet sources, positively representing the brand RELEVANT PROJECT EXPERIENCE Social Media and Digital Marketing, SLU Hammond, LA Group Project January 2021 – May 2021 ● Collaborated with 5-person team to develop action plan for addressing marketing strategies for Fortune 500 company ● Researched client needs and created solution-based layout to best suit functionality requirements ● Led project with confidence through organizing team meetings, tracking progress, and providing forum for discussion CUSTOMER SERVICE EXPERIENCE Server Hammond, LA Olive Garden August 2019 – Present ● Provided excellent customer service to 50+ patrons per shift in a fast-paced, time-intense environment ● Demonstrated keen attention to detail by managing financial transactions totaling up to $2,000 ● Trained 5+ new employees each month on business operations and offer constructive feedback ● Successfully and consistently upsold desserts, appetizers, and special promotions; won upselling contest 4 times Assistant Store Manager Baton Rouge, LA The Body Shop August 2018 – December 2019 ● Exceeded $2,500 weekly sales quota by 10% and targeted customer behavior to increase sales ● Handled amounts exceeding $5,000 daily while maintaining accurate balances and deposits ● Regularly scheduled and supervised duties of 6 employees ● Conducted opening and closing procedures such as product inventory, store cleaning, and accessing multiple security systems ● Exemplified reliability and punctuality by completing all assigned tasks in a timely manner HONORS & AWARDS Taylor Opportunity Program for Students Scholarship Recipient, President’s List (3 semesters), Dean’s List (3 semesters) CAMPUS & COMMUNITY INVOLVEMENT Southeastern Marketing Association, Member August 2019 – Present Habitat for Humanity, Volunteer July 2019 – August 2020 Southeastern Running Club, Member July 2018 – January 2019 SKILLS Language: conversational Spanish, skilled in written Spanish Technical: proficient in Bloomberg Terminal, proficient in Microsoft Office Suite'"
      ]
     },
     "execution_count": 35,
     "metadata": {},
     "output_type": "execute_result"
    }
   ],
   "source": [
    "business_text"
   ]
  },
  {
   "cell_type": "markdown",
   "metadata": {},
   "source": [
    "Found US univesrity csv file, gonna try to use it to extract college names from resume"
   ]
  },
  {
   "cell_type": "code",
   "execution_count": 70,
   "metadata": {},
   "outputs": [],
   "source": [
    "#Option 1: broad\n",
    "def find_colleges_in_text(text, college_names):\n",
    "    found_colleges = None\n",
    "    text_lower = text.lower() \n",
    "    \n",
    "    for college in college_names:\n",
    "        if college in text_lower:\n",
    "            found_colleges.add(college)\n",
    "            break\n",
    "    return found_colleges"
   ]
  },
  {
   "cell_type": "code",
   "execution_count": 85,
   "metadata": {},
   "outputs": [],
   "source": [
    "#Option 2: normalizing the text\n",
    "def normalize_text(text):\n",
    "    \"\"\"\n",
    "    Helper for extract_career_info function\n",
    "    \"\"\"\n",
    "    text = re.sub(r'[^\\w\\s]', '', text)  # Remove punctuation\n",
    "    text = re.sub(r'\\s+', ' ', text)  # Normalize whitespace\n",
    "    return text.lower()\n",
    "\n",
    "college_names_normalized = set()\n",
    "with open('college_names', 'r', encoding='utf-8') as f:\n",
    "    reader = csv.reader(f)\n",
    "    for row in reader:\n",
    "        normalized_name = normalize_text(row[0].strip())  # Normalize each college name\n",
    "        college_names_normalized.add(normalized_name)"
   ]
  },
  {
   "cell_type": "code",
   "execution_count": 89,
   "metadata": {},
   "outputs": [],
   "source": [
    "def fuzzy_match_colleges(text, colleges, threshold=90):\n",
    "    \"\"\"\n",
    "    Helper for extract_career_info function\n",
    "    @param threshold : percentage of similarity to look for\n",
    "    \"\"\"\n",
    "    matched_colleges = []\n",
    "    normalized_text = normalize_text(text)\n",
    "    for college in colleges:\n",
    "        match_score = fuzz.ratio(normalized_text, college)\n",
    "\n",
    "        if match_score > threshold:\n",
    "            matched_colleges.append(college)\n",
    "            \n",
    "    return matched_colleges"
   ]
  },
  {
   "cell_type": "code",
   "execution_count": 90,
   "metadata": {},
   "outputs": [
    {
     "data": {
      "text/plain": [
       "[]"
      ]
     },
     "execution_count": 90,
     "metadata": {},
     "output_type": "execute_result"
    }
   ],
   "source": [
    "fuzzy_match_colleges(my_text, college_names)"
   ]
  },
  {
   "cell_type": "code",
   "execution_count": 69,
   "metadata": {},
   "outputs": [
    {
     "data": {
      "text/plain": [
       "{'southeastern louisiana university'}"
      ]
     },
     "execution_count": 69,
     "metadata": {},
     "output_type": "execute_result"
    }
   ],
   "source": [
    "find_colleges_in_text(business_text, college_names)"
   ]
  },
  {
   "cell_type": "code",
   "execution_count": 78,
   "metadata": {},
   "outputs": [
    {
     "data": {
      "text/plain": [
       "'YOUR NAME firstlastseluedu  9851111111 EDUCATION Southeastern Louisiana University SLU Hammond LA Bachelor of Arts in Marketing Spanish minor May 2021 Major GPA 350400 Overall GPA 365400 RELEVANT EXPERIENCE Marketing Intern Baton Rouge LA Louisiana Department of Labor May 2021  July 2021  Screened 40 applicants for open positions daily paying attention to detail and clearly communicating job requirements to potential candidates  Retrieved unemployment claims collected confidential customer information and conducted daily log entries diligently Chairman of AdvertisingPublic Relations Baton Rouge LA American Red Cross Fundraising Committee January 2020  May 2020  Coordinated and supervised a 6member committee and maximized committee potential by delegating to members strengths  Provided personal outreach to various media outlets which led to firsttime coverage from 4 outlets  Wrote press releases and secured media publicity through radio paper and internet sources positively representing the brand RELEVANT PROJECT EXPERIENCE Social Media and Digital Marketing SLU Hammond LA Group Project January 2021  May 2021  Collaborated with 5person team to develop action plan for addressing marketing strategies for Fortune 500 company  Researched client needs and created solutionbased layout to best suit functionality requirements  Led project with confidence through organizing team meetings tracking progress and providing forum for discussion CUSTOMER SERVICE EXPERIENCE Server Hammond LA Olive Garden August 2019  Present  Provided excellent customer service to 50 patrons per shift in a fastpaced timeintense environment  Demonstrated keen attention to detail by managing financial transactions totaling up to 2000  Trained 5 new employees each month on business operations and offer constructive feedback  Successfully and consistently upsold desserts appetizers and special promotions won upselling contest 4 times Assistant Store Manager Baton Rouge LA The Body Shop August 2018  December 2019  Exceeded 2500 weekly sales quota by 10 and targeted customer behavior to increase sales  Handled amounts exceeding 5000 daily while maintaining accurate balances and deposits  Regularly scheduled and supervised duties of 6 employees  Conducted opening and closing procedures such as product inventory store cleaning and accessing multiple security systems  Exemplified reliability and punctuality by completing all assigned tasks in a timely manner HONORS  AWARDS Taylor Opportunity Program for Students Scholarship Recipient Presidents List 3 semesters Deans List 3 semesters CAMPUS  COMMUNITY INVOLVEMENT Southeastern Marketing Association Member August 2019  Present Habitat for Humanity Volunteer July 2019  August 2020 Southeastern Running Club Member July 2018  January 2019 SKILLS Language conversational Spanish skilled in written Spanish Technical proficient in Bloomberg Terminal proficient in Microsoft Office Suite'"
      ]
     },
     "execution_count": 78,
     "metadata": {},
     "output_type": "execute_result"
    }
   ],
   "source": [
    "text = business_text\n",
    "text = re.sub(r'[^\\w\\s]', '', text)\n",
    "# text = re.sub(r'\\s+', ' ', text) \n",
    "text"
   ]
  },
  {
   "cell_type": "code",
   "execution_count": null,
   "metadata": {},
   "outputs": [],
   "source": [
    "text = re.sub(r'[^\\w\\s]', '', text)  # Remove punctuation\n",
    "text = re.sub(r'\\s+', ' ', text)  # Normalize whitespace"
   ]
  }
 ],
 "metadata": {
  "kernelspec": {
   "display_name": "Python 3.11.5 ('resume_parse')",
   "language": "python",
   "name": "python3"
  },
  "language_info": {
   "codemirror_mode": {
    "name": "ipython",
    "version": 3
   },
   "file_extension": ".py",
   "mimetype": "text/x-python",
   "name": "python",
   "nbconvert_exporter": "python",
   "pygments_lexer": "ipython3",
   "version": "3.11.5"
  },
  "orig_nbformat": 4,
  "vscode": {
   "interpreter": {
    "hash": "fdb9c9fdc7d3cca10e8428d17a1d53710da8b100be16854f30e66d5cca7c9d21"
   }
  }
 },
 "nbformat": 4,
 "nbformat_minor": 2
}
